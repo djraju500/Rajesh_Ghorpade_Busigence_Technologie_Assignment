{
 "cells": [
  {
   "cell_type": "markdown",
   "metadata": {},
   "source": [
    "# DATA ENGINEER - PYTHON PYSPARK\n",
    "\n",
    "This test consits of fifteen problems. You are required to write your code in cell below each problem and output the result in cell next to it\n",
    "\n",
    "Total Time Allowed: 3 hours\n",
    "\n",
    "Style1: 10 markes each shall be awarded for correct solution coded in object oriented paradign in Python3\n",
    "Style2: 15 marks each shall be awarded for correct solution coded in functional programming paradigm (lamda, map, reduce, filter etc) in Python3\n",
    "Style3: 20 marks each shall be awarded for correct solution coded in functional programming paradigm (dataframes, map, reduce, filter etc) in PySpark3\n",
    "\n",
    "Rename and Save the notebook with your FirstName_LastName (eg. Sahil_Gupta.ipynb)"
   ]
  },
  {
   "cell_type": "code",
   "execution_count": 1,
   "metadata": {},
   "outputs": [],
   "source": [
    "# Rajesh Ghorpde\n",
    "# rajesh.ghorpade500@gmail.com\n",
    "# +918308903416/+919595020731"
   ]
  },
  {
   "cell_type": "markdown",
   "metadata": {},
   "source": [
    "INSTRUCTIONS:\n",
    "    1. You are required to download and import five CSV files, one json file and one xml file\n",
    "    2. You would need to understand business involved behind CRM database tables. This is important\n",
    "    3. Code must be in Python3/PySpark3\n",
    "    4. Either your code should output something or leave the comment \"#solution code here\" as it is. We shall use 'Run All' in notebook and it shouldn't result error\n",
    "    5. Test the entire notebook before uploading to Google Form provided\n",
    "    6. You can use any Python3 library (two are imported already) or PySpark3 library. There is no restriction\n",
    "    7. Output fieldname to be displayed are marked as single quaotes '' in problem statement. You should use same field alias names whereever required\n",
    "    8. Notation for dataframe and/or array must be local to a problem's solution. Eg. Dataframe \"test\" for problem 8 should be df_prb8_test"
   ]
  },
  {
   "cell_type": "code",
   "execution_count": 2,
   "metadata": {},
   "outputs": [],
   "source": [
    "import numpy as np\n",
    "import pandas as pd\n",
    "import datetime\n",
    "from datetime import timedelta\n",
    "from pandas import DataFrame"
   ]
  },
  {
   "cell_type": "code",
   "execution_count": 3,
   "metadata": {},
   "outputs": [],
   "source": [
    "#import CSVs and JSONs here\n",
    "df1 = pd.read_csv(r'C:\\Users\\DJ RAJU\\Desktop\\New folder\\accounts.csv')\n",
    "df2 = pd.read_csv(r'C:\\Users\\DJ RAJU\\Desktop\\New folder\\clicks.csv')\n",
    "df3 = pd.read_csv(r'C:\\Users\\DJ RAJU\\Desktop\\New folder\\products.csv')\n",
    "df4 = pd.read_csv(r'C:\\Users\\DJ RAJU\\Desktop\\New folder\\sales_pipeline.csv')\n",
    "df5 = pd.read_csv(r'C:\\Users\\DJ RAJU\\Desktop\\New folder\\sales_teams.csv')\n",
    "#df6 = pd.read_json(r'C:\\Users\\DJ RAJU\\Desktop\\New folder\\Orchestra.json')"
   ]
  },
  {
   "cell_type": "markdown",
   "metadata": {},
   "source": [
    "## 1. Display 'Manager' and 'Grand Total Sales', for sales done by the sales agents reporting these managers"
   ]
  },
  {
   "cell_type": "code",
   "execution_count": 4,
   "metadata": {},
   "outputs": [
    {
     "data": {
      "text/html": [
       "<div>\n",
       "<style scoped>\n",
       "    .dataframe tbody tr th:only-of-type {\n",
       "        vertical-align: middle;\n",
       "    }\n",
       "\n",
       "    .dataframe tbody tr th {\n",
       "        vertical-align: top;\n",
       "    }\n",
       "\n",
       "    .dataframe thead th {\n",
       "        text-align: right;\n",
       "    }\n",
       "</style>\n",
       "<table border=\"1\" class=\"dataframe\">\n",
       "  <thead>\n",
       "    <tr style=\"text-align: right;\">\n",
       "      <th></th>\n",
       "      <th>Count</th>\n",
       "    </tr>\n",
       "    <tr>\n",
       "      <th>manager</th>\n",
       "      <th></th>\n",
       "    </tr>\n",
       "  </thead>\n",
       "  <tbody>\n",
       "    <tr>\n",
       "      <th>Cara Losch</th>\n",
       "      <td>697</td>\n",
       "    </tr>\n",
       "    <tr>\n",
       "      <th>Celia Rouche</th>\n",
       "      <td>834</td>\n",
       "    </tr>\n",
       "    <tr>\n",
       "      <th>Dustin Brinkmann</th>\n",
       "      <td>1049</td>\n",
       "    </tr>\n",
       "    <tr>\n",
       "      <th>Melvin Marxen</th>\n",
       "      <td>1755</td>\n",
       "    </tr>\n",
       "    <tr>\n",
       "      <th>Rocco Neubert</th>\n",
       "      <td>993</td>\n",
       "    </tr>\n",
       "    <tr>\n",
       "      <th>Summer Sewald</th>\n",
       "      <td>1110</td>\n",
       "    </tr>\n",
       "  </tbody>\n",
       "</table>\n",
       "</div>"
      ],
      "text/plain": [
       "                  Count\n",
       "manager                \n",
       "Cara Losch          697\n",
       "Celia Rouche        834\n",
       "Dustin Brinkmann   1049\n",
       "Melvin Marxen      1755\n",
       "Rocco Neubert       993\n",
       "Summer Sewald      1110"
      ]
     },
     "execution_count": 4,
     "metadata": {},
     "output_type": "execute_result"
    }
   ],
   "source": [
    "#solution code here\n",
    "def sales(sales_agent,deal_stage):\n",
    "    if 'Won' in deal_stage:\n",
    "        return sales_agent\n",
    "d_1=df4.apply(lambda x: sales(x['sales_agent'],x['deal_stage']),axis=1)\n",
    "\n",
    "df5[\"Count\"] = df5[\"sales_agent\"].map(d_1.dropna().value_counts())\n",
    "df5.groupby(by=\"manager\").sum()"
   ]
  },
  {
   "cell_type": "markdown",
   "metadata": {},
   "source": [
    "##  2. Display 'Sales Agents' and 'Sales' for those sales where product sold at profit"
   ]
  },
  {
   "cell_type": "code",
   "execution_count": 5,
   "metadata": {},
   "outputs": [
    {
     "data": {
      "text/plain": [
       "0                 (Kami Bicknell, MGRPFU, 4794.0, 835.0)\n",
       "1                 (Versie Hillebrand, MGRPFS, 67.0, 3.0)\n",
       "2           (Kami Bicknell, GTXPlusBasic, 1480.0, 201.0)\n",
       "3           (James Ascencio, GTXPlusPro, 9150.0, 2755.0)\n",
       "4       (Marty Freudenburg, GTXPlusBasic, 1380.0, 101.0)\n",
       "                              ...                       \n",
       "3206            (Lajuana Vencill, MGRPFU, 4897.0, 938.0)\n",
       "3207         (Versie Hillebrand, GTXBasic, 761.0, 120.0)\n",
       "3208               (Darcel Schlecht, MGRPFS, 75.0, 11.0)\n",
       "3209        (Darcel Schlecht, GTXPlusPro, 6892.0, 497.0)\n",
       "3210       (Cecily Lampkin, GTXPlusBasic, 1412.0, 133.0)\n",
       "Length: 3211, dtype: object"
      ]
     },
     "execution_count": 5,
     "metadata": {},
     "output_type": "execute_result"
    }
   ],
   "source": [
    "#solution code here\n",
    "conditions = [\n",
    "    (df4['product'] == 'GTXAdvanced'),\n",
    "    (df4['product'] == 'GTXBasic'),\n",
    "    (df4['product'] == 'MGRPFU'),\n",
    "    (df4['product'] == 'MGRPFS'),\n",
    "    (df4['product'] == 'GTXPlusBasic'),\n",
    "    (df4['product'] == 'GTXPlusPro'),\n",
    "    (df4['product'] == 'GTXPro'),\n",
    "    (df4['product'] == 'GTK500U')\n",
    "    ]\n",
    "\n",
    "values = ['649','641','3959','64','1279','6395','5624','31229']\n",
    "\n",
    "df4['sale_price'] = np.select(conditions, values).astype(int)\n",
    "df4.dropna()\n",
    "df4['profit']=df4['close_value']-df4['sale_price']\n",
    "\n",
    "def sales(sales_agent,deal_stage,product,close_value,profit):\n",
    "    if 'Won' in deal_stage:\n",
    "        if profit>0:\n",
    "            return sales_agent,product,close_value,profit\n",
    "d_2=df4.apply(lambda x: sales(x['sales_agent'],x['deal_stage'],x['product'],x['close_value'],x['profit']),axis=1)\n",
    "d_2.dropna().reset_index(drop=True)"
   ]
  },
  {
   "cell_type": "markdown",
   "metadata": {},
   "source": [
    "## PROBLEM 3: Display the 'Opportunity ID' and 'Days Taken to Close', for opportunities those got closed within a month"
   ]
  },
  {
   "cell_type": "code",
   "execution_count": 6,
   "metadata": {},
   "outputs": [
    {
     "data": {
      "text/plain": [
       "0       (67HY0MW7, 12)\n",
       "1        (4VHUTHOJ, 1)\n",
       "2       (TMJ0OJ0B, 10)\n",
       "3       (B22V5Z3B, 13)\n",
       "4       (T8QRTV6F, 10)\n",
       "             ...      \n",
       "3268    (KSMGHSZG, 11)\n",
       "3269     (UJS5Q5HS, 8)\n",
       "3270     (TBKVN0D8, 7)\n",
       "3271    (4CS92BTC, 12)\n",
       "3272     (4FI7GRQG, 9)\n",
       "Length: 3273, dtype: object"
      ]
     },
     "execution_count": 6,
     "metadata": {},
     "output_type": "execute_result"
    }
   ],
   "source": [
    "\n",
    "#solution code here\n",
    "df4['created_on'] = pd.to_datetime(df4['created_on'])\n",
    "df4['close_date'] = pd.to_datetime(df4['close_date'])\n",
    "df4['days']= df4['close_date']-df4['created_on']\n",
    "\n",
    "def sales(opportunity_id,days):\n",
    "    if days<pd.Timedelta(value=30, unit='d'):\n",
    "        return opportunity_id,days.days\n",
    "d_3=df4.apply(lambda x: sales(x['opportunity_id'],x['days']),axis=1)\n",
    "d_3.dropna().reset_index(drop=True)"
   ]
  },
  {
   "cell_type": "markdown",
   "metadata": {},
   "source": [
    "## PROBLEM 4: Display product(s) got maximum leads (by count) generated from paid source"
   ]
  },
  {
   "cell_type": "code",
   "execution_count": 7,
   "metadata": {},
   "outputs": [
    {
     "data": {
      "text/plain": [
       "(Paid, Telecom)                 1725\n",
       "(Paid, Finance)                 1378\n",
       "(Paid, SaaS)                    1116\n",
       "(Paid, Retail/Entertainment)     742\n",
       "(Paid, IT)                       625\n",
       "(Paid, Health Care)              546\n",
       "(Paid, Education)                388\n",
       "dtype: int64"
      ]
     },
     "execution_count": 7,
     "metadata": {},
     "output_type": "execute_result"
    }
   ],
   "source": [
    "#solution code here\n",
    "def clicks(source,industry):\n",
    "    if 'Paid' in source:\n",
    "        return source,industry\n",
    "d_4=df2.apply(lambda x: clicks(x['source'],x['industry']),axis=1)\n",
    "d_4.dropna().value_counts()"
   ]
  },
  {
   "cell_type": "markdown",
   "metadata": {},
   "source": [
    "## PROBLEM 5: Display 'Sales Agent' and 'Opportunity Count', for those sales agents who lost atleast two opportunties"
   ]
  },
  {
   "cell_type": "code",
   "execution_count": 8,
   "metadata": {},
   "outputs": [
    {
     "data": {
      "text/html": [
       "<div>\n",
       "<style scoped>\n",
       "    .dataframe tbody tr th:only-of-type {\n",
       "        vertical-align: middle;\n",
       "    }\n",
       "\n",
       "    .dataframe tbody tr th {\n",
       "        vertical-align: top;\n",
       "    }\n",
       "\n",
       "    .dataframe thead th {\n",
       "        text-align: right;\n",
       "    }\n",
       "</style>\n",
       "<table border=\"1\" class=\"dataframe\">\n",
       "  <thead>\n",
       "    <tr style=\"text-align: right;\">\n",
       "      <th></th>\n",
       "      <th>total_oppurtunities</th>\n",
       "      <th>lost_oppurtunities</th>\n",
       "    </tr>\n",
       "    <tr>\n",
       "      <th>Agent_Name</th>\n",
       "      <th></th>\n",
       "      <th></th>\n",
       "    </tr>\n",
       "  </thead>\n",
       "  <tbody>\n",
       "    <tr>\n",
       "      <th>Darcel Schlecht</th>\n",
       "      <td>1330</td>\n",
       "      <td>337</td>\n",
       "    </tr>\n",
       "    <tr>\n",
       "      <th>Jonathan Berthelot</th>\n",
       "      <td>728</td>\n",
       "      <td>185</td>\n",
       "    </tr>\n",
       "    <tr>\n",
       "      <th>Vicki Laflamme</th>\n",
       "      <td>612</td>\n",
       "      <td>162</td>\n",
       "    </tr>\n",
       "    <tr>\n",
       "      <th>Cassey Cress</th>\n",
       "      <td>590</td>\n",
       "      <td>137</td>\n",
       "    </tr>\n",
       "    <tr>\n",
       "      <th>Kary Hendrixson</th>\n",
       "      <td>581</td>\n",
       "      <td>143</td>\n",
       "    </tr>\n",
       "    <tr>\n",
       "      <th>Gladys Colclough</th>\n",
       "      <td>580</td>\n",
       "      <td>149</td>\n",
       "    </tr>\n",
       "    <tr>\n",
       "      <th>Kami Bicknell</th>\n",
       "      <td>574</td>\n",
       "      <td>134</td>\n",
       "    </tr>\n",
       "    <tr>\n",
       "      <th>Donn Cantrell</th>\n",
       "      <td>569</td>\n",
       "      <td>156</td>\n",
       "    </tr>\n",
       "    <tr>\n",
       "      <th>Anna Snelling</th>\n",
       "      <td>549</td>\n",
       "      <td>140</td>\n",
       "    </tr>\n",
       "    <tr>\n",
       "      <th>Zane Levy</th>\n",
       "      <td>546</td>\n",
       "      <td>122</td>\n",
       "    </tr>\n",
       "    <tr>\n",
       "      <th>Lajuana Vencill</th>\n",
       "      <td>545</td>\n",
       "      <td>149</td>\n",
       "    </tr>\n",
       "    <tr>\n",
       "      <th>Corliss Cosme</th>\n",
       "      <td>520</td>\n",
       "      <td>126</td>\n",
       "    </tr>\n",
       "    <tr>\n",
       "      <th>Niesha Huffines</th>\n",
       "      <td>520</td>\n",
       "      <td>123</td>\n",
       "    </tr>\n",
       "    <tr>\n",
       "      <th>Maureen Marcano</th>\n",
       "      <td>515</td>\n",
       "      <td>119</td>\n",
       "    </tr>\n",
       "    <tr>\n",
       "      <th>Marty Freudenburg</th>\n",
       "      <td>485</td>\n",
       "      <td>120</td>\n",
       "    </tr>\n",
       "    <tr>\n",
       "      <th>Markita Hansen</th>\n",
       "      <td>472</td>\n",
       "      <td>115</td>\n",
       "    </tr>\n",
       "    <tr>\n",
       "      <th>Versie Hillebrand</th>\n",
       "      <td>455</td>\n",
       "      <td>118</td>\n",
       "    </tr>\n",
       "    <tr>\n",
       "      <th>Reed Clapper</th>\n",
       "      <td>439</td>\n",
       "      <td>87</td>\n",
       "    </tr>\n",
       "    <tr>\n",
       "      <th>Violet Mclelland</th>\n",
       "      <td>429</td>\n",
       "      <td>111</td>\n",
       "    </tr>\n",
       "    <tr>\n",
       "      <th>Moses Frase</th>\n",
       "      <td>386</td>\n",
       "      <td>95</td>\n",
       "    </tr>\n",
       "    <tr>\n",
       "      <th>Daniell Hammack</th>\n",
       "      <td>363</td>\n",
       "      <td>80</td>\n",
       "    </tr>\n",
       "    <tr>\n",
       "      <th>James Ascencio</th>\n",
       "      <td>354</td>\n",
       "      <td>88</td>\n",
       "    </tr>\n",
       "    <tr>\n",
       "      <th>Hayden Neloms</th>\n",
       "      <td>326</td>\n",
       "      <td>71</td>\n",
       "    </tr>\n",
       "    <tr>\n",
       "      <th>Cecily Lampkin</th>\n",
       "      <td>324</td>\n",
       "      <td>86</td>\n",
       "    </tr>\n",
       "    <tr>\n",
       "      <th>Boris Faz</th>\n",
       "      <td>289</td>\n",
       "      <td>63</td>\n",
       "    </tr>\n",
       "    <tr>\n",
       "      <th>Elease Gluck</th>\n",
       "      <td>272</td>\n",
       "      <td>62</td>\n",
       "    </tr>\n",
       "    <tr>\n",
       "      <th>Rosalina Dieter</th>\n",
       "      <td>252</td>\n",
       "      <td>52</td>\n",
       "    </tr>\n",
       "    <tr>\n",
       "      <th>Garret Kinder</th>\n",
       "      <td>251</td>\n",
       "      <td>63</td>\n",
       "    </tr>\n",
       "    <tr>\n",
       "      <th>Rosie Papadopoulos</th>\n",
       "      <td>237</td>\n",
       "      <td>56</td>\n",
       "    </tr>\n",
       "    <tr>\n",
       "      <th>Wilburn Farren</th>\n",
       "      <td>184</td>\n",
       "      <td>44</td>\n",
       "    </tr>\n",
       "  </tbody>\n",
       "</table>\n",
       "</div>"
      ],
      "text/plain": [
       "                    total_oppurtunities  lost_oppurtunities\n",
       "Agent_Name                                                 \n",
       "Darcel Schlecht                    1330                 337\n",
       "Jonathan Berthelot                  728                 185\n",
       "Vicki Laflamme                      612                 162\n",
       "Cassey Cress                        590                 137\n",
       "Kary Hendrixson                     581                 143\n",
       "Gladys Colclough                    580                 149\n",
       "Kami Bicknell                       574                 134\n",
       "Donn Cantrell                       569                 156\n",
       "Anna Snelling                       549                 140\n",
       "Zane Levy                           546                 122\n",
       "Lajuana Vencill                     545                 149\n",
       "Corliss Cosme                       520                 126\n",
       "Niesha Huffines                     520                 123\n",
       "Maureen Marcano                     515                 119\n",
       "Marty Freudenburg                   485                 120\n",
       "Markita Hansen                      472                 115\n",
       "Versie Hillebrand                   455                 118\n",
       "Reed Clapper                        439                  87\n",
       "Violet Mclelland                    429                 111\n",
       "Moses Frase                         386                  95\n",
       "Daniell Hammack                     363                  80\n",
       "James Ascencio                      354                  88\n",
       "Hayden Neloms                       326                  71\n",
       "Cecily Lampkin                      324                  86\n",
       "Boris Faz                           289                  63\n",
       "Elease Gluck                        272                  62\n",
       "Rosalina Dieter                     252                  52\n",
       "Garret Kinder                       251                  63\n",
       "Rosie Papadopoulos                  237                  56\n",
       "Wilburn Farren                      184                  44"
      ]
     },
     "execution_count": 8,
     "metadata": {},
     "output_type": "execute_result"
    }
   ],
   "source": [
    "#solution code here\n",
    "def sales(sales_agent,deal_stage):\n",
    "    if 'Lost' in deal_stage:\n",
    "        return sales_agent\n",
    "d_5=df4.apply(lambda x: sales(x['sales_agent'],x['deal_stage']),axis=1)\n",
    "a_5=pd.DataFrame(df4['sales_agent'].value_counts().rename_axis('Agent_Name').to_frame('total_oppurtunities'))\n",
    "b_5 = d_5.dropna().value_counts().rename_axis('Agent_Name').to_frame('lost_oppurtunities')\n",
    "result_5=pd.merge(a_5, b_5,on='Agent_Name')\n",
    "result_5"
   ]
  },
  {
   "cell_type": "markdown",
   "metadata": {},
   "source": [
    "## PROBLEM 6: Display in ascending order of revenue, 'Account' and 'Revenue' for telecom accounts"
   ]
  },
  {
   "cell_type": "code",
   "execution_count": 9,
   "metadata": {},
   "outputs": [
    {
     "name": "stderr",
     "output_type": "stream",
     "text": [
      "D:\\anaconda\\lib\\site-packages\\ipykernel_launcher.py:6: SettingWithCopyWarning: \n",
      "A value is trying to be set on a copy of a slice from a DataFrame.\n",
      "Try using .loc[row_indexer,col_indexer] = value instead\n",
      "\n",
      "See the caveats in the documentation: https://pandas.pydata.org/pandas-docs/stable/user_guide/indexing.html#returning-a-view-versus-a-copy\n",
      "  \n"
     ]
    },
    {
     "data": {
      "text/html": [
       "<div>\n",
       "<style scoped>\n",
       "    .dataframe tbody tr th:only-of-type {\n",
       "        vertical-align: middle;\n",
       "    }\n",
       "\n",
       "    .dataframe tbody tr th {\n",
       "        vertical-align: top;\n",
       "    }\n",
       "\n",
       "    .dataframe thead th {\n",
       "        text-align: right;\n",
       "    }\n",
       "</style>\n",
       "<table border=\"1\" class=\"dataframe\">\n",
       "  <thead>\n",
       "    <tr style=\"text-align: right;\">\n",
       "      <th></th>\n",
       "      <th>industry</th>\n",
       "      <th>account</th>\n",
       "      <th>revenue</th>\n",
       "    </tr>\n",
       "  </thead>\n",
       "  <tbody>\n",
       "    <tr>\n",
       "      <th>0</th>\n",
       "      <td>Telecom</td>\n",
       "      <td>Stanredtax</td>\n",
       "      <td>14.79</td>\n",
       "    </tr>\n",
       "    <tr>\n",
       "      <th>1</th>\n",
       "      <td>Telecom</td>\n",
       "      <td>Stanredtax</td>\n",
       "      <td>14.79</td>\n",
       "    </tr>\n",
       "    <tr>\n",
       "      <th>2</th>\n",
       "      <td>Telecom</td>\n",
       "      <td>Stanredtax</td>\n",
       "      <td>14.79</td>\n",
       "    </tr>\n",
       "    <tr>\n",
       "      <th>3</th>\n",
       "      <td>Telecom</td>\n",
       "      <td>Stanredtax</td>\n",
       "      <td>14.79</td>\n",
       "    </tr>\n",
       "    <tr>\n",
       "      <th>4</th>\n",
       "      <td>Telecom</td>\n",
       "      <td>Stanredtax</td>\n",
       "      <td>14.79</td>\n",
       "    </tr>\n",
       "    <tr>\n",
       "      <th>...</th>\n",
       "      <td>...</td>\n",
       "      <td>...</td>\n",
       "      <td>...</td>\n",
       "    </tr>\n",
       "    <tr>\n",
       "      <th>7205</th>\n",
       "      <td>Telecom</td>\n",
       "      <td>Dalttechnology</td>\n",
       "      <td>6085.60</td>\n",
       "    </tr>\n",
       "    <tr>\n",
       "      <th>7206</th>\n",
       "      <td>Telecom</td>\n",
       "      <td>Dalttechnology</td>\n",
       "      <td>6085.60</td>\n",
       "    </tr>\n",
       "    <tr>\n",
       "      <th>7207</th>\n",
       "      <td>Telecom</td>\n",
       "      <td>Dalttechnology</td>\n",
       "      <td>6085.60</td>\n",
       "    </tr>\n",
       "    <tr>\n",
       "      <th>7208</th>\n",
       "      <td>Telecom</td>\n",
       "      <td>Dalttechnology</td>\n",
       "      <td>6085.60</td>\n",
       "    </tr>\n",
       "    <tr>\n",
       "      <th>7209</th>\n",
       "      <td>Telecom</td>\n",
       "      <td>Dalttechnology</td>\n",
       "      <td>6085.60</td>\n",
       "    </tr>\n",
       "  </tbody>\n",
       "</table>\n",
       "<p>7210 rows × 3 columns</p>\n",
       "</div>"
      ],
      "text/plain": [
       "     industry         account  revenue\n",
       "0     Telecom      Stanredtax    14.79\n",
       "1     Telecom      Stanredtax    14.79\n",
       "2     Telecom      Stanredtax    14.79\n",
       "3     Telecom      Stanredtax    14.79\n",
       "4     Telecom      Stanredtax    14.79\n",
       "...       ...             ...      ...\n",
       "7205  Telecom  Dalttechnology  6085.60\n",
       "7206  Telecom  Dalttechnology  6085.60\n",
       "7207  Telecom  Dalttechnology  6085.60\n",
       "7208  Telecom  Dalttechnology  6085.60\n",
       "7209  Telecom  Dalttechnology  6085.60\n",
       "\n",
       "[7210 rows x 3 columns]"
      ]
     },
     "execution_count": 9,
     "metadata": {},
     "output_type": "execute_result"
    }
   ],
   "source": [
    "#solution code here\n",
    "new_df_6 = df4[['account','created_on']]\n",
    "new_df_6.fillna(method='ffill')\n",
    "new_df_6 = pd.merge(new_df_6,df1,on='account') \n",
    "d_6=df2[df2[\"industry\"] == 'Telecom']\n",
    "d_6['created_on'] = pd.to_datetime(d_6['created_on'])\n",
    "new_df_6= pd.merge(new_df_6,d_6,on='created_on')\n",
    "new_df_6.drop_duplicates(keep=False,inplace=True)\n",
    "new_df_6[['industry','account', 'revenue']].sort_values('revenue').reset_index(drop=True)"
   ]
  },
  {
   "cell_type": "markdown",
   "metadata": {},
   "source": [
    "## PROBLEM 7: Display by revenue generated, bottom five 'Industries' and 'Revenue'"
   ]
  },
  {
   "cell_type": "code",
   "execution_count": 10,
   "metadata": {},
   "outputs": [
    {
     "data": {
      "text/html": [
       "<div>\n",
       "<style scoped>\n",
       "    .dataframe tbody tr th:only-of-type {\n",
       "        vertical-align: middle;\n",
       "    }\n",
       "\n",
       "    .dataframe tbody tr th {\n",
       "        vertical-align: top;\n",
       "    }\n",
       "\n",
       "    .dataframe thead th {\n",
       "        text-align: right;\n",
       "    }\n",
       "</style>\n",
       "<table border=\"1\" class=\"dataframe\">\n",
       "  <thead>\n",
       "    <tr style=\"text-align: right;\">\n",
       "      <th></th>\n",
       "      <th>industry</th>\n",
       "      <th>revenue</th>\n",
       "    </tr>\n",
       "  </thead>\n",
       "  <tbody>\n",
       "    <tr>\n",
       "      <th>0</th>\n",
       "      <td>Finance</td>\n",
       "      <td>14.79</td>\n",
       "    </tr>\n",
       "    <tr>\n",
       "      <th>1</th>\n",
       "      <td>Health Care</td>\n",
       "      <td>14.79</td>\n",
       "    </tr>\n",
       "    <tr>\n",
       "      <th>2</th>\n",
       "      <td>SaaS</td>\n",
       "      <td>14.79</td>\n",
       "    </tr>\n",
       "    <tr>\n",
       "      <th>3</th>\n",
       "      <td>Retail/Entertainment</td>\n",
       "      <td>14.79</td>\n",
       "    </tr>\n",
       "    <tr>\n",
       "      <th>4</th>\n",
       "      <td>Retail/Entertainment</td>\n",
       "      <td>14.79</td>\n",
       "    </tr>\n",
       "  </tbody>\n",
       "</table>\n",
       "</div>"
      ],
      "text/plain": [
       "               industry  revenue\n",
       "0               Finance    14.79\n",
       "1           Health Care    14.79\n",
       "2                  SaaS    14.79\n",
       "3  Retail/Entertainment    14.79\n",
       "4  Retail/Entertainment    14.79"
      ]
     },
     "execution_count": 10,
     "metadata": {},
     "output_type": "execute_result"
    }
   ],
   "source": [
    "\n",
    "#solution code here\n",
    "new_df_7 = df4[['account','created_on']]\n",
    "new_df_7.fillna(method='ffill')\n",
    "df2['created_on']=pd.to_datetime(df2['created_on'])\n",
    "new_df_7 = pd.merge(new_df_7,df1,on='account')\n",
    "new_df_7= pd.merge(new_df_7,df2,on='created_on')\n",
    "d_7=new_df_7[['industry', 'revenue']].sort_values('revenue').reset_index(drop=True)\n",
    "d_7.drop_duplicates(subset=['industry'])\n",
    "d_7.head(5)"
   ]
  },
  {
   "cell_type": "markdown",
   "metadata": {},
   "source": [
    "## PROBLEM 8: Display 'Month of Year' vs 'Sales', for GTXBasic. NOTE: \"Month of Year\" means month year (eg. Jan) and \"Month\" means month (eg. Jan 2020, Jan 2021 etc)"
   ]
  },
  {
   "cell_type": "code",
   "execution_count": 11,
   "metadata": {},
   "outputs": [
    {
     "data": {
      "text/plain": [
       "(GTXBasic, September)    253\n",
       "(GTXBasic, December)     206\n",
       "(GTXBasic, October)      202\n",
       "(GTXBasic, August)       189\n",
       "(GTXBasic, July)         136\n",
       "(GTXBasic, June)         114\n",
       "(GTXBasic, May)           88\n",
       "(GTXBasic, November)      77\n",
       "(GTXBasic, March)         45\n",
       "(GTXBasic, April)         44\n",
       "dtype: int64"
      ]
     },
     "execution_count": 11,
     "metadata": {},
     "output_type": "execute_result"
    }
   ],
   "source": [
    "#solution code here\n",
    "def sales(close_date,deal_stage,product):\n",
    "    if 'Won' in deal_stage:\n",
    "        if 'GTXBasic' in product:\n",
    "            return product,close_date.month_name()\n",
    "d_8=df4.apply(lambda x: sales(x['close_date'],x['deal_stage'],x['product']),axis=1)\n",
    "d_8.dropna().value_counts()"
   ]
  },
  {
   "cell_type": "markdown",
   "metadata": {},
   "source": [
    "## PROBLEM 9: Which sales agent(s) never lost a deal. Display as a dictionary {sales agent:sales}"
   ]
  },
  {
   "cell_type": "code",
   "execution_count": 12,
   "metadata": {},
   "outputs": [
    {
     "data": {
      "text/plain": [
       "{'Elease Gluck': 4,\n",
       " 'Hayden Neloms': 3,\n",
       " 'Wilburn Farren': 2,\n",
       " 'Kami Bicknell': 2,\n",
       " 'Markita Hansen': 6,\n",
       " 'Donn Cantrell': 1,\n",
       " 'Rosie Papadopoulos': 1,\n",
       " 'Violet Mclelland': 1,\n",
       " 'Kary Hendrixson': 1,\n",
       " 'Maureen Marcano': 1,\n",
       " 'Cassey Cress': 1,\n",
       " 'Garret Kinder': 1,\n",
       " 'Anna Snelling': 8,\n",
       " 'Niesha Huffines': 7,\n",
       " 'Marty Freudenburg': 6,\n",
       " 'Moses Frase': 5,\n",
       " 'Gladys Colclough': 4,\n",
       " 'Versie Hillebrand': 3,\n",
       " 'Jonathan Berthelot': 3,\n",
       " 'Lajuana Vencill': 1,\n",
       " 'Darcel Schlecht': 2,\n",
       " 'Cecily Lampkin': 1}"
      ]
     },
     "execution_count": 12,
     "metadata": {},
     "output_type": "execute_result"
    }
   ],
   "source": [
    "\n",
    "#solution code here\n",
    "a_dict={}\n",
    "d=df4['sales_agent']\n",
    "for i in range(len(df4['deal_stage'])):\n",
    "    if df4['deal_stage'][i] == 'Won':\n",
    "        if d[i] in a_dict:\n",
    "            a_dict[d[i]] += 1\n",
    "        else:\n",
    "            a_dict[d[i]] = 1\n",
    "    elif df4['deal_stage'][i] == 'Lost' or df4['deal_stage'][i]=='In_Progress':\n",
    "        if d[i] in a_dict:\n",
    "            a_dict.pop(d[i])\n",
    "        else:\n",
    "            continue\n",
    "a_dict"
   ]
  },
  {
   "cell_type": "markdown",
   "metadata": {},
   "source": [
    "## PROBLEM 10: Display 'Sales Agents', 'Product', and 'Sales', for those sales agents who closed more than one deal on same day"
   ]
  },
  {
   "cell_type": "code",
   "execution_count": 13,
   "metadata": {},
   "outputs": [
    {
     "data": {
      "text/html": [
       "<div>\n",
       "<style scoped>\n",
       "    .dataframe tbody tr th:only-of-type {\n",
       "        vertical-align: middle;\n",
       "    }\n",
       "\n",
       "    .dataframe tbody tr th {\n",
       "        vertical-align: top;\n",
       "    }\n",
       "\n",
       "    .dataframe thead th {\n",
       "        text-align: right;\n",
       "    }\n",
       "</style>\n",
       "<table border=\"1\" class=\"dataframe\">\n",
       "  <thead>\n",
       "    <tr style=\"text-align: right;\">\n",
       "      <th></th>\n",
       "      <th>sales_agent</th>\n",
       "      <th>product</th>\n",
       "      <th>close_date</th>\n",
       "    </tr>\n",
       "  </thead>\n",
       "  <tbody>\n",
       "    <tr>\n",
       "      <th>264</th>\n",
       "      <td>Darcel Schlecht</td>\n",
       "      <td>GTXPro</td>\n",
       "      <td>2017-08-02</td>\n",
       "    </tr>\n",
       "    <tr>\n",
       "      <th>274</th>\n",
       "      <td>Violet Mclelland</td>\n",
       "      <td>GTXBasic</td>\n",
       "      <td>2017-09-18</td>\n",
       "    </tr>\n",
       "    <tr>\n",
       "      <th>287</th>\n",
       "      <td>Cassey Cress</td>\n",
       "      <td>MGRPFS</td>\n",
       "      <td>2017-09-11</td>\n",
       "    </tr>\n",
       "    <tr>\n",
       "      <th>420</th>\n",
       "      <td>Darcel Schlecht</td>\n",
       "      <td>MGRPFS</td>\n",
       "      <td>2017-06-05</td>\n",
       "    </tr>\n",
       "    <tr>\n",
       "      <th>445</th>\n",
       "      <td>Rosalina Dieter</td>\n",
       "      <td>MGRPFS</td>\n",
       "      <td>2017-08-16</td>\n",
       "    </tr>\n",
       "    <tr>\n",
       "      <th>...</th>\n",
       "      <td>...</td>\n",
       "      <td>...</td>\n",
       "      <td>...</td>\n",
       "    </tr>\n",
       "    <tr>\n",
       "      <th>14268</th>\n",
       "      <td>Darcel Schlecht</td>\n",
       "      <td>GTXPro</td>\n",
       "      <td>2017-10-08</td>\n",
       "    </tr>\n",
       "    <tr>\n",
       "      <th>14269</th>\n",
       "      <td>Lajuana Vencill</td>\n",
       "      <td>MGRPFU</td>\n",
       "      <td>2017-10-12</td>\n",
       "    </tr>\n",
       "    <tr>\n",
       "      <th>14272</th>\n",
       "      <td>Darcel Schlecht</td>\n",
       "      <td>MGRPFS</td>\n",
       "      <td>2017-10-03</td>\n",
       "    </tr>\n",
       "    <tr>\n",
       "      <th>14273</th>\n",
       "      <td>Darcel Schlecht</td>\n",
       "      <td>GTXPlusPro</td>\n",
       "      <td>2017-10-24</td>\n",
       "    </tr>\n",
       "    <tr>\n",
       "      <th>14274</th>\n",
       "      <td>Jonathan Berthelot</td>\n",
       "      <td>GTXBasic</td>\n",
       "      <td>2017-10-10</td>\n",
       "    </tr>\n",
       "  </tbody>\n",
       "</table>\n",
       "<p>2264 rows × 3 columns</p>\n",
       "</div>"
      ],
      "text/plain": [
       "              sales_agent     product close_date\n",
       "264       Darcel Schlecht      GTXPro 2017-08-02\n",
       "274      Violet Mclelland    GTXBasic 2017-09-18\n",
       "287          Cassey Cress      MGRPFS 2017-09-11\n",
       "420       Darcel Schlecht      MGRPFS 2017-06-05\n",
       "445       Rosalina Dieter      MGRPFS 2017-08-16\n",
       "...                   ...         ...        ...\n",
       "14268     Darcel Schlecht      GTXPro 2017-10-08\n",
       "14269     Lajuana Vencill      MGRPFU 2017-10-12\n",
       "14272     Darcel Schlecht      MGRPFS 2017-10-03\n",
       "14273     Darcel Schlecht  GTXPlusPro 2017-10-24\n",
       "14274  Jonathan Berthelot    GTXBasic 2017-10-10\n",
       "\n",
       "[2264 rows x 3 columns]"
      ]
     },
     "execution_count": 13,
     "metadata": {},
     "output_type": "execute_result"
    }
   ],
   "source": [
    "#solution code here\n",
    "d_10=df4[df4['deal_stage']=='Won']\n",
    "d_10 = d_10[d_10.duplicated(['close_date','sales_agent'])]\n",
    "d_10[['sales_agent','product','close_date']]"
   ]
  },
  {
   "cell_type": "markdown",
   "metadata": {},
   "source": [
    "## Refer & Use Orchestra.json to answer problem 11-13 below"
   ]
  },
  {
   "cell_type": "code",
   "execution_count": 14,
   "metadata": {},
   "outputs": [
    {
     "name": "stderr",
     "output_type": "stream",
     "text": [
      "D:\\anaconda\\lib\\site-packages\\ipykernel_launcher.py:7: FutureWarning: pandas.io.json.json_normalize is deprecated, use pandas.json_normalize instead\n",
      "  import sys\n"
     ]
    }
   ],
   "source": [
    "#solution code here\n",
    "import json \n",
    "import pandas as pd \n",
    "from pandas.io.json import json_normalize\n",
    "with open(r'C:\\Users\\DJ RAJU\\Desktop\\New folder\\Orchestra.json',encoding='UTF-8') as f:    \n",
    "    d_11 = json.load(f)\n",
    "nyc = json_normalize(d_11['programs'])"
   ]
  },
  {
   "cell_type": "code",
   "execution_count": 15,
   "metadata": {},
   "outputs": [
    {
     "name": "stderr",
     "output_type": "stream",
     "text": [
      "D:\\anaconda\\lib\\site-packages\\ipykernel_launcher.py:1: FutureWarning: pandas.io.json.json_normalize is deprecated, use pandas.json_normalize instead\n",
      "  \"\"\"Entry point for launching an IPython kernel.\n"
     ]
    }
   ],
   "source": [
    "works_data = json_normalize(data=d_11['programs'], record_path='works',meta=['id', 'orchestra','programID', 'season'])"
   ]
  },
  {
   "cell_type": "code",
   "execution_count": 16,
   "metadata": {},
   "outputs": [
    {
     "name": "stderr",
     "output_type": "stream",
     "text": [
      "D:\\anaconda\\lib\\site-packages\\ipykernel_launcher.py:1: FutureWarning: pandas.io.json.json_normalize is deprecated, use pandas.json_normalize instead\n",
      "  \"\"\"Entry point for launching an IPython kernel.\n"
     ]
    }
   ],
   "source": [
    "soloist_data = json_normalize(data=d_11['programs'], record_path=['works', 'soloists'], meta=['id'])"
   ]
  },
  {
   "cell_type": "markdown",
   "metadata": {},
   "source": [
    "\n",
    "\n",
    "## PROBLEM 11: Display the instrument played by Lehmann Caroline"
   ]
  },
  {
   "cell_type": "code",
   "execution_count": 17,
   "metadata": {},
   "outputs": [
    {
     "data": {
      "text/html": [
       "<div>\n",
       "<style scoped>\n",
       "    .dataframe tbody tr th:only-of-type {\n",
       "        vertical-align: middle;\n",
       "    }\n",
       "\n",
       "    .dataframe tbody tr th {\n",
       "        vertical-align: top;\n",
       "    }\n",
       "\n",
       "    .dataframe thead th {\n",
       "        text-align: right;\n",
       "    }\n",
       "</style>\n",
       "<table border=\"1\" class=\"dataframe\">\n",
       "  <thead>\n",
       "    <tr style=\"text-align: right;\">\n",
       "      <th></th>\n",
       "      <th>soloistName</th>\n",
       "      <th>soloistInstrument</th>\n",
       "    </tr>\n",
       "  </thead>\n",
       "  <tbody>\n",
       "    <tr>\n",
       "      <th>0</th>\n",
       "      <td>Lehmann, Caroline</td>\n",
       "      <td>Soprano</td>\n",
       "    </tr>\n",
       "  </tbody>\n",
       "</table>\n",
       "</div>"
      ],
      "text/plain": [
       "         soloistName soloistInstrument\n",
       "0  Lehmann, Caroline           Soprano"
      ]
     },
     "execution_count": 17,
     "metadata": {},
     "output_type": "execute_result"
    }
   ],
   "source": [
    "a_11=soloist_data[soloist_data['soloistName']== \"Lehmann, Caroline\"]\n",
    "a_11=a_11[['soloistName','soloistInstrument']].drop_duplicates().reset_index(drop=True)\n",
    "a_11"
   ]
  },
  {
   "cell_type": "markdown",
   "metadata": {},
   "source": [
    "## PROBLEM 12: Display all vocalists"
   ]
  },
  {
   "cell_type": "code",
   "execution_count": 18,
   "metadata": {},
   "outputs": [
    {
     "data": {
      "text/html": [
       "<div>\n",
       "<style scoped>\n",
       "    .dataframe tbody tr th:only-of-type {\n",
       "        vertical-align: middle;\n",
       "    }\n",
       "\n",
       "    .dataframe tbody tr th {\n",
       "        vertical-align: top;\n",
       "    }\n",
       "\n",
       "    .dataframe thead th {\n",
       "        text-align: right;\n",
       "    }\n",
       "</style>\n",
       "<table border=\"1\" class=\"dataframe\">\n",
       "  <thead>\n",
       "    <tr style=\"text-align: right;\">\n",
       "      <th></th>\n",
       "      <th>soloistName</th>\n",
       "      <th>soloistInstrument</th>\n",
       "    </tr>\n",
       "  </thead>\n",
       "  <tbody>\n",
       "    <tr>\n",
       "      <th>0</th>\n",
       "      <td>Loder, Edward</td>\n",
       "      <td>Vocalist</td>\n",
       "    </tr>\n",
       "    <tr>\n",
       "      <th>1</th>\n",
       "      <td>Ricci, Amalia</td>\n",
       "      <td>Vocalist</td>\n",
       "    </tr>\n",
       "    <tr>\n",
       "      <th>2</th>\n",
       "      <td>Sanquirico</td>\n",
       "      <td>Vocalist</td>\n",
       "    </tr>\n",
       "    <tr>\n",
       "      <th>3</th>\n",
       "      <td>Loder, Edward</td>\n",
       "      <td>Vocalist</td>\n",
       "    </tr>\n",
       "    <tr>\n",
       "      <th>4</th>\n",
       "      <td>De Luce</td>\n",
       "      <td>Vocalist</td>\n",
       "    </tr>\n",
       "    <tr>\n",
       "      <th>...</th>\n",
       "      <td>...</td>\n",
       "      <td>...</td>\n",
       "    </tr>\n",
       "    <tr>\n",
       "      <th>186</th>\n",
       "      <td>Connell, Horatio</td>\n",
       "      <td>Vocalist</td>\n",
       "    </tr>\n",
       "    <tr>\n",
       "      <th>187</th>\n",
       "      <td>Rennyson, Gertrude</td>\n",
       "      <td>Vocalist</td>\n",
       "    </tr>\n",
       "    <tr>\n",
       "      <th>188</th>\n",
       "      <td>Braun, J.F.</td>\n",
       "      <td>Vocalist</td>\n",
       "    </tr>\n",
       "    <tr>\n",
       "      <th>189</th>\n",
       "      <td>Clark, Charles W.</td>\n",
       "      <td>Vocalist</td>\n",
       "    </tr>\n",
       "    <tr>\n",
       "      <th>190</th>\n",
       "      <td>Clark, Charles W.</td>\n",
       "      <td>Vocalist</td>\n",
       "    </tr>\n",
       "  </tbody>\n",
       "</table>\n",
       "<p>191 rows × 2 columns</p>\n",
       "</div>"
      ],
      "text/plain": [
       "            soloistName soloistInstrument\n",
       "0         Loder, Edward          Vocalist\n",
       "1         Ricci, Amalia          Vocalist\n",
       "2            Sanquirico          Vocalist\n",
       "3         Loder, Edward          Vocalist\n",
       "4               De Luce          Vocalist\n",
       "..                  ...               ...\n",
       "186    Connell, Horatio          Vocalist\n",
       "187  Rennyson, Gertrude          Vocalist\n",
       "188         Braun, J.F.          Vocalist\n",
       "189   Clark, Charles W.          Vocalist\n",
       "190   Clark, Charles W.          Vocalist\n",
       "\n",
       "[191 rows x 2 columns]"
      ]
     },
     "execution_count": 18,
     "metadata": {},
     "output_type": "execute_result"
    }
   ],
   "source": [
    "#solution code here\n",
    "a_12=soloist_data[soloist_data['soloistInstrument']== \"Vocalist\"].drop_duplicates().reset_index(drop=True)\n",
    "a_12[['soloistName','soloistInstrument']]"
   ]
  },
  {
   "cell_type": "markdown",
   "metadata": {},
   "source": [
    "## PROBLEM 13: Display orchestra played under program id 2561"
   ]
  },
  {
   "cell_type": "code",
   "execution_count": 19,
   "metadata": {},
   "outputs": [
    {
     "data": {
      "text/html": [
       "<div>\n",
       "<style scoped>\n",
       "    .dataframe tbody tr th:only-of-type {\n",
       "        vertical-align: middle;\n",
       "    }\n",
       "\n",
       "    .dataframe tbody tr th {\n",
       "        vertical-align: top;\n",
       "    }\n",
       "\n",
       "    .dataframe thead th {\n",
       "        text-align: right;\n",
       "    }\n",
       "</style>\n",
       "<table border=\"1\" class=\"dataframe\">\n",
       "  <thead>\n",
       "    <tr style=\"text-align: right;\">\n",
       "      <th></th>\n",
       "      <th>programID</th>\n",
       "      <th>orchestra</th>\n",
       "    </tr>\n",
       "  </thead>\n",
       "  <tbody>\n",
       "    <tr>\n",
       "      <th>0</th>\n",
       "      <td>2561</td>\n",
       "      <td>New York Philharmonic</td>\n",
       "    </tr>\n",
       "  </tbody>\n",
       "</table>\n",
       "</div>"
      ],
      "text/plain": [
       "  programID              orchestra\n",
       "0      2561  New York Philharmonic"
      ]
     },
     "execution_count": 19,
     "metadata": {},
     "output_type": "execute_result"
    }
   ],
   "source": [
    "\n",
    "#solution code here\n",
    "a_13=nyc[nyc['programID']== '2561']\n",
    "a_13[['programID','orchestra']].reset_index(drop=True)"
   ]
  },
  {
   "cell_type": "markdown",
   "metadata": {},
   "source": [
    "## Refer & Use Orchestra.xml to answer problem 14-15 below"
   ]
  },
  {
   "cell_type": "code",
   "execution_count": 20,
   "metadata": {
    "scrolled": true
   },
   "outputs": [],
   "source": [
    "#pip install pandas_read_xml"
   ]
  },
  {
   "cell_type": "code",
   "execution_count": 21,
   "metadata": {},
   "outputs": [],
   "source": [
    "#pip install --upgrade pip"
   ]
  },
  {
   "cell_type": "code",
   "execution_count": 22,
   "metadata": {},
   "outputs": [],
   "source": [
    "#!pip install --upgrade pandas"
   ]
  },
  {
   "cell_type": "code",
   "execution_count": 23,
   "metadata": {
    "scrolled": true
   },
   "outputs": [],
   "source": [
    "import pandas_read_xml as pdx\n",
    "df_14_15 = pdx.read_xml(r'C:\\Users\\DJ RAJU\\Desktop\\New folder\\Orchestra.xml',encoding='UTF-8') #if error please install the above command in comments"
   ]
  },
  {
   "cell_type": "code",
   "execution_count": 24,
   "metadata": {},
   "outputs": [],
   "source": [
    "\n",
    "df_14_15 = pdx.fully_flatten(df_14_15)\n"
   ]
  },
  {
   "cell_type": "markdown",
   "metadata": {},
   "source": [
    "\n",
    "\n",
    "## PROBLEM 14: Display locations used for event at time 8:15 PM"
   ]
  },
  {
   "cell_type": "code",
   "execution_count": 25,
   "metadata": {},
   "outputs": [
    {
     "data": {
      "text/html": [
       "<div>\n",
       "<style scoped>\n",
       "    .dataframe tbody tr th:only-of-type {\n",
       "        vertical-align: middle;\n",
       "    }\n",
       "\n",
       "    .dataframe tbody tr th {\n",
       "        vertical-align: top;\n",
       "    }\n",
       "\n",
       "    .dataframe thead th {\n",
       "        text-align: right;\n",
       "    }\n",
       "</style>\n",
       "<table border=\"1\" class=\"dataframe\">\n",
       "  <thead>\n",
       "    <tr style=\"text-align: right;\">\n",
       "      <th></th>\n",
       "      <th>programs|program|concertInfo|Time</th>\n",
       "      <th>programs|program|concertInfo|Venue</th>\n",
       "    </tr>\n",
       "  </thead>\n",
       "  <tbody>\n",
       "    <tr>\n",
       "      <th>0</th>\n",
       "      <td>8:15PM</td>\n",
       "      <td>Unknown Venue</td>\n",
       "    </tr>\n",
       "    <tr>\n",
       "      <th>1</th>\n",
       "      <td>8:15PM</td>\n",
       "      <td>Carnegie Hall</td>\n",
       "    </tr>\n",
       "    <tr>\n",
       "      <th>2</th>\n",
       "      <td>8:15PM</td>\n",
       "      <td>New York Theatre Roof</td>\n",
       "    </tr>\n",
       "    <tr>\n",
       "      <th>3</th>\n",
       "      <td>8:15PM</td>\n",
       "      <td>Woolsey Hall</td>\n",
       "    </tr>\n",
       "    <tr>\n",
       "      <th>4</th>\n",
       "      <td>8:15PM</td>\n",
       "      <td>Metropolitan Opera House (39th street)</td>\n",
       "    </tr>\n",
       "    <tr>\n",
       "      <th>5</th>\n",
       "      <td>8:15PM</td>\n",
       "      <td>Brooklyn Academy of Music</td>\n",
       "    </tr>\n",
       "    <tr>\n",
       "      <th>6</th>\n",
       "      <td>8:15PM</td>\n",
       "      <td>Carnegie Lyceum</td>\n",
       "    </tr>\n",
       "    <tr>\n",
       "      <th>7</th>\n",
       "      <td>8:15PM</td>\n",
       "      <td>Court Square Theater</td>\n",
       "    </tr>\n",
       "    <tr>\n",
       "      <th>8</th>\n",
       "      <td>8:15PM</td>\n",
       "      <td>Infantry Hall</td>\n",
       "    </tr>\n",
       "    <tr>\n",
       "      <th>9</th>\n",
       "      <td>8:15PM</td>\n",
       "      <td>Academy of Music</td>\n",
       "    </tr>\n",
       "    <tr>\n",
       "      <th>10</th>\n",
       "      <td>8:15PM</td>\n",
       "      <td>Parsons Theatre</td>\n",
       "    </tr>\n",
       "    <tr>\n",
       "      <th>11</th>\n",
       "      <td>8:15PM</td>\n",
       "      <td>Krueger Auditorium</td>\n",
       "    </tr>\n",
       "    <tr>\n",
       "      <th>12</th>\n",
       "      <td>8:15PM</td>\n",
       "      <td>Tomlinson Hall</td>\n",
       "    </tr>\n",
       "  </tbody>\n",
       "</table>\n",
       "</div>"
      ],
      "text/plain": [
       "   programs|program|concertInfo|Time      programs|program|concertInfo|Venue\n",
       "0                             8:15PM                           Unknown Venue\n",
       "1                             8:15PM                           Carnegie Hall\n",
       "2                             8:15PM                   New York Theatre Roof\n",
       "3                             8:15PM                            Woolsey Hall\n",
       "4                             8:15PM  Metropolitan Opera House (39th street)\n",
       "5                             8:15PM               Brooklyn Academy of Music\n",
       "6                             8:15PM                         Carnegie Lyceum\n",
       "7                             8:15PM                    Court Square Theater\n",
       "8                             8:15PM                           Infantry Hall\n",
       "9                             8:15PM                        Academy of Music\n",
       "10                            8:15PM                         Parsons Theatre\n",
       "11                            8:15PM                      Krueger Auditorium\n",
       "12                            8:15PM                          Tomlinson Hall"
      ]
     },
     "execution_count": 25,
     "metadata": {},
     "output_type": "execute_result"
    }
   ],
   "source": [
    "\n",
    "#solution code here\n",
    "a_14=df_14_15[df_14_15['programs|program|concertInfo|Time']=='8:15PM']\n",
    "a_14[['programs|program|concertInfo|Time','programs|program|concertInfo|Venue']].drop_duplicates().reset_index(drop=True)"
   ]
  },
  {
   "cell_type": "markdown",
   "metadata": {},
   "source": [
    "## PROBLEM 15: Display total number of programs"
   ]
  },
  {
   "cell_type": "code",
   "execution_count": 26,
   "metadata": {},
   "outputs": [
    {
     "data": {
      "text/plain": [
       "bc4845dd-10be-4241-a130-8fcdd5160a3a-0.1    86\n",
       "a1bf5399-033b-44da-9f7d-bbeb9380689e-0.1    59\n",
       "4e7bb6ef-1675-4a35-8196-d0dab7d6ba5b-0.1    46\n",
       "64aa6587-b4c6-4a32-a94d-4e87f24b1193-0.1    40\n",
       "6bb19636-2f4b-45ec-9a99-d49d281a423f-0.1    36\n",
       "                                            ..\n",
       "f0356b40-a9cb-4a16-9814-2bbda5a2dc10-0.1     1\n",
       "e66ac133-8dc3-4a73-9db1-57b19bca7e71-0.1     1\n",
       "addd0a8c-7f87-4db5-b89b-e130ec649063-0.1     1\n",
       "0c5bbddc-8acc-42d9-9380-46a4a2da46a4-0.1     1\n",
       "2a850ead-d89b-43e1-9dc2-7bb413575efc-0.1     1\n",
       "Name: programs|program|id, Length: 1033, dtype: int64"
      ]
     },
     "execution_count": 26,
     "metadata": {},
     "output_type": "execute_result"
    }
   ],
   "source": [
    "\n",
    "#solution code here\n",
    "df_14_15['programs|program|id'].value_counts()"
   ]
  },
  {
   "cell_type": "code",
   "execution_count": 27,
   "metadata": {},
   "outputs": [
    {
     "name": "stdout",
     "output_type": "stream",
     "text": [
      "Toal Number of Programs=\n"
     ]
    },
    {
     "data": {
      "text/plain": [
       "1033"
      ]
     },
     "execution_count": 27,
     "metadata": {},
     "output_type": "execute_result"
    }
   ],
   "source": [
    "print('Toal Number of Programs=')\n",
    "df_14_15['programs|program|id'].nunique()"
   ]
  },
  {
   "cell_type": "code",
   "execution_count": null,
   "metadata": {},
   "outputs": [],
   "source": []
  }
 ],
 "metadata": {
  "kernelspec": {
   "display_name": "Python 3",
   "language": "python",
   "name": "python3"
  },
  "language_info": {
   "codemirror_mode": {
    "name": "ipython",
    "version": 3
   },
   "file_extension": ".py",
   "mimetype": "text/x-python",
   "name": "python",
   "nbconvert_exporter": "python",
   "pygments_lexer": "ipython3",
   "version": "3.7.3"
  }
 },
 "nbformat": 4,
 "nbformat_minor": 2
}
